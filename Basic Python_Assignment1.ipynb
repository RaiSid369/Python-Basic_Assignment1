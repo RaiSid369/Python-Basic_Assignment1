{
 "cells": [
  {
   "cell_type": "code",
   "execution_count": 1,
   "id": "2393fb04",
   "metadata": {},
   "outputs": [],
   "source": [
    "# Que 1. In the below elements which of them are values or an expression? \n",
    "# eg:- values can be integer or string and expressions will be mathematical operators.\n",
    "# * \n",
    "# 'hello'\n",
    "# -87.8\n",
    "# - \n",
    "# / \n",
    "# +\n",
    "# 6 "
   ]
  },
  {
   "cell_type": "code",
   "execution_count": 2,
   "id": "fb9e9b4f",
   "metadata": {},
   "outputs": [],
   "source": [
    "# Answer 1\n",
    "# Values are: 'hello', -87.8 and 6\n",
    "# Expressions are: *, -, / and +"
   ]
  },
  {
   "cell_type": "code",
   "execution_count": null,
   "id": "3360b1bd",
   "metadata": {},
   "outputs": [],
   "source": []
  },
  {
   "cell_type": "code",
   "execution_count": 3,
   "id": "990d47ca",
   "metadata": {},
   "outputs": [],
   "source": [
    "# Que 2. What is the difference between string and variable?"
   ]
  },
  {
   "cell_type": "code",
   "execution_count": 4,
   "id": "a893462a",
   "metadata": {},
   "outputs": [],
   "source": [
    "# Answer 2\n",
    "# A variable in Python is an entity or a container that is used to store data provided by the user. \n",
    "# Or, we can say, it is a reserved memory location to store values. \n",
    "# Variable can be of different data type. e.g. string, list, tuple, set, dictionary.\n",
    "\n",
    "# A string is a type of variable which is used to store one or more characters. \n",
    "# Combination of charatcer may include letters, symbols or numbers.\n",
    "# String type variable are enclosed in single or double quotes.\n",
    "# e.g. S = \"Sid\"\n",
    "# S is string type variable containing value \"Sid\""
   ]
  },
  {
   "cell_type": "code",
   "execution_count": null,
   "id": "78afa4a1",
   "metadata": {},
   "outputs": [],
   "source": []
  },
  {
   "cell_type": "code",
   "execution_count": 5,
   "id": "bb62fa98",
   "metadata": {},
   "outputs": [],
   "source": [
    "# Que 3. Describe three different data types."
   ]
  },
  {
   "cell_type": "code",
   "execution_count": 6,
   "id": "e7ce2374",
   "metadata": {},
   "outputs": [],
   "source": [
    "# Answer 3\n",
    "\n",
    "# A string is a type of variable which is used to store one or more characters. \n",
    "# Combination of charatcer may include letters, symbols or numbers.\n",
    "# String type variable are enclosed in single or double quotes.\n",
    "# e.g. S = \"Sid\"\n",
    "# S is string type variable containing value \"Sid\"\n",
    "\n",
    "\n",
    "# List variables are used to store different type of data into a single place.\n",
    "# For e.g. List can have numeric values as well as alphanumeric values.  List variables are enclosed in []\n",
    "# Suppose 'L' is a list type variable containing\n",
    "# L = [1,2,3,a,b,c,\"Hello\"]\n",
    "\n",
    "# Like list variables, tuple variables are used to store different type of data into a single place.\n",
    "# But unlike list variables, tuple variables are immutable meaning no changes can be made in them.\n",
    "# Tuple variables are enclosed in ()\n",
    "# Suppose 'T' is a list type variable containing\n",
    "# T = (1,2,3,a,b,c,\"Hello\")"
   ]
  },
  {
   "cell_type": "code",
   "execution_count": null,
   "id": "fbb7dd41",
   "metadata": {},
   "outputs": [],
   "source": []
  },
  {
   "cell_type": "code",
   "execution_count": 7,
   "id": "24d79ac7",
   "metadata": {},
   "outputs": [],
   "source": [
    "# Que 4. What is an expression made up of? What do all expressions do?"
   ]
  },
  {
   "cell_type": "code",
   "execution_count": 8,
   "id": "9ccb0a71",
   "metadata": {},
   "outputs": [],
   "source": [
    "# Answer 4\n",
    "\n",
    "# An expression can be defined as a combination of operators and operands used to derive a desired output. \n",
    "# There are different type of operators in Python. E.g. Assignment, Logical, Comparison operator etc.\n",
    "# All operators have their special usecase depending upon the situation and need of the consumer.\n",
    "# A simple yet most used example of expression is i = i+1 mainly used in FOR, WHILE Loop."
   ]
  },
  {
   "cell_type": "code",
   "execution_count": null,
   "id": "1b52a035",
   "metadata": {},
   "outputs": [],
   "source": []
  },
  {
   "cell_type": "code",
   "execution_count": 9,
   "id": "6b957a64",
   "metadata": {},
   "outputs": [],
   "source": [
    "# Que 5. This assignment statements, like spam = 10. What is the difference between an expression and a statement?"
   ]
  },
  {
   "cell_type": "code",
   "execution_count": 10,
   "id": "9d5ad01c",
   "metadata": {},
   "outputs": [],
   "source": [
    "# Answer\n",
    "# An expression can be defined as a combination of operators and operands used to derive a desired output. e.g. i=i+1\n",
    "# However, a statement simply is used to declare a vaiable or create a variable. e.g print(\"Hello World\")"
   ]
  },
  {
   "cell_type": "code",
   "execution_count": null,
   "id": "86fb4760",
   "metadata": {},
   "outputs": [],
   "source": []
  },
  {
   "cell_type": "code",
   "execution_count": 11,
   "id": "d047f3d4",
   "metadata": {},
   "outputs": [],
   "source": [
    "# Que 6. After running the following code, what does the variable bacon contain?\n",
    "# bacon = 22\n",
    "# bacon + 1"
   ]
  },
  {
   "cell_type": "code",
   "execution_count": 12,
   "id": "66b6712e",
   "metadata": {},
   "outputs": [],
   "source": [
    "# Answer\n",
    "# 22"
   ]
  },
  {
   "cell_type": "code",
   "execution_count": null,
   "id": "6d51230d",
   "metadata": {},
   "outputs": [],
   "source": []
  },
  {
   "cell_type": "code",
   "execution_count": 13,
   "id": "9e110253",
   "metadata": {},
   "outputs": [],
   "source": [
    "# Que 7. What should the values of the following two terms be?\n",
    "# 'spam' + 'spamspam'\n",
    "# 'spam' * 3"
   ]
  },
  {
   "cell_type": "code",
   "execution_count": 14,
   "id": "f040f34c",
   "metadata": {},
   "outputs": [],
   "source": [
    "# Answer\n",
    "# 'spamspamspam'\n",
    "# 'spamspamspam'"
   ]
  },
  {
   "cell_type": "code",
   "execution_count": null,
   "id": "f0183204",
   "metadata": {},
   "outputs": [],
   "source": []
  },
  {
   "cell_type": "code",
   "execution_count": 15,
   "id": "616755cc",
   "metadata": {},
   "outputs": [],
   "source": [
    "# Que 8. Why is eggs a valid variable name while 100 is invalid?"
   ]
  },
  {
   "cell_type": "code",
   "execution_count": 16,
   "id": "31702c92",
   "metadata": {},
   "outputs": [],
   "source": [
    "# Answer\n",
    "# There are some naming conventions in Python which are to be followed while naming a variable.Some are mentioned below\n",
    "# 1. Variable names should start with an alphabet. e.g. 'age'\n",
    "# 2. It is recommended not to start a variable name with a capital letter.\n",
    "# i.e. It is better to name the variable as 'age' rather than 'Age'. This is not mandatory but is a good practice.\n",
    "# 3. It should not contain any special characters like $ @ ! ( ) & ^ except underscore '_'.\n",
    "# e.g variable name 'python#variable' is not acceptable but 'python_variable' is acceptable.\n",
    "# 4. A variable name can contain numbers but should not start with the number. \n",
    "# e.g variable name '1_python' is not acceptable but 'python1' is acceptable.\n",
    "# 5. Use an underscore at the start of the naming to hide that variable. e.g variable name '_python' is acceptable. \n",
    "# Using such a naming convention makes it difficult for other users to find that variable.\n",
    "\n",
    "\n",
    "# Due to above mentioned naming convention, egg is a valid variable and 100 is invalid"
   ]
  },
  {
   "cell_type": "code",
   "execution_count": null,
   "id": "79d63bb7",
   "metadata": {},
   "outputs": [],
   "source": []
  },
  {
   "cell_type": "code",
   "execution_count": 17,
   "id": "8a314f75",
   "metadata": {},
   "outputs": [],
   "source": [
    "# Que 9. What three functions can be used to get the integer, floating-point number, or string version of a value?"
   ]
  },
  {
   "cell_type": "code",
   "execution_count": 18,
   "id": "80b25ced",
   "metadata": {},
   "outputs": [],
   "source": [
    "# Answer\n",
    "# int(Variable_Name) to get integer value\n",
    "# float(Variable_Name) to get float value\n",
    "# str(Variable_Name) to get string value\n"
   ]
  },
  {
   "cell_type": "code",
   "execution_count": null,
   "id": "93bdecd2",
   "metadata": {},
   "outputs": [],
   "source": []
  },
  {
   "cell_type": "code",
   "execution_count": 19,
   "id": "9bef0478",
   "metadata": {},
   "outputs": [],
   "source": [
    "# Que 10. Why does this expression cause an error? How can you fix it?\n",
    "#'I have eaten ' + 99 + ' burritos.'\n",
    "\n",
    "\n"
   ]
  },
  {
   "cell_type": "code",
   "execution_count": 20,
   "id": "ac9bbd13",
   "metadata": {},
   "outputs": [],
   "source": [
    "# Answer\n",
    "# Concatination of a string value to an integer value is not possible. We have to convert the integer value to string value.\n",
    "# Therefore, use 'I have eaten ' + '99' + ' burritos.'\n"
   ]
  }
 ],
 "metadata": {
  "kernelspec": {
   "display_name": "Python 3 (ipykernel)",
   "language": "python",
   "name": "python3"
  },
  "language_info": {
   "codemirror_mode": {
    "name": "ipython",
    "version": 3
   },
   "file_extension": ".py",
   "mimetype": "text/x-python",
   "name": "python",
   "nbconvert_exporter": "python",
   "pygments_lexer": "ipython3",
   "version": "3.9.12"
  }
 },
 "nbformat": 4,
 "nbformat_minor": 5
}
